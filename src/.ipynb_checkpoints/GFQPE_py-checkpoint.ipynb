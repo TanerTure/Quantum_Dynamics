{
 "cells": [
  {
   "cell_type": "markdown",
   "metadata": {},
   "source": [
    "# Equations\n",
    "\n",
    "$$\\Gamma(t) =  \\frac{\\tilde{F}_1(t_s)}{r_m(t)} $$\n",
    "\n",
    "$$\\mathcal{R}_{pq}(t) = \\frac{1}{r_m(t)}\\tilde{G}_1(\\beta_s,t_s) - 2\\frac{\\gamma_s}{r_m(t)^2}G_2(\\beta_s,t_s)\\tilde{F}_1(t_s)$$ \n",
    "\n",
    "$$\\mathcal{R}_{qq}(t) = 2\\frac{\\gamma_s}{r_m(t)^2}G_2(\\beta_s,t_s)$$\n",
    "\n",
    "$$\\mathcal{R}_{pp}(t) = \\frac{1}{\\gamma_s} G_0(\\beta_s,t_s) - 2\\Gamma(t)\\tilde{G}_1(\\beta_s, t_s) + 2\\gamma_s\\Gamma(t)^2G_2(\\beta_s, t_s) $$\n",
    "\n"
   ]
  },
  {
   "cell_type": "code",
   "execution_count": 3,
   "metadata": {
    "scrolled": true
   },
   "outputs": [
    {
     "name": "stderr",
     "output_type": "stream",
     "text": [
      "C:\\ProgramData\\Anaconda3\\lib\\site-packages\\ipykernel_launcher.py:69: MatplotlibDeprecationWarning: Adding an axes using the same arguments as a previous axes currently reuses the earlier instance.  In a future version, a new instance will always be created and returned.  Meanwhile, this warning can be suppressed, and the future behavior ensured, by passing a unique label to each axes instance.\n",
      "C:\\ProgramData\\Anaconda3\\lib\\site-packages\\ipykernel_launcher.py:71: MatplotlibDeprecationWarning: Adding an axes using the same arguments as a previous axes currently reuses the earlier instance.  In a future version, a new instance will always be created and returned.  Meanwhile, this warning can be suppressed, and the future behavior ensured, by passing a unique label to each axes instance.\n",
      "C:\\ProgramData\\Anaconda3\\lib\\site-packages\\ipykernel_launcher.py:73: MatplotlibDeprecationWarning: Adding an axes using the same arguments as a previous axes currently reuses the earlier instance.  In a future version, a new instance will always be created and returned.  Meanwhile, this warning can be suppressed, and the future behavior ensured, by passing a unique label to each axes instance.\n",
      "C:\\ProgramData\\Anaconda3\\lib\\site-packages\\ipykernel_launcher.py:75: MatplotlibDeprecationWarning: Adding an axes using the same arguments as a previous axes currently reuses the earlier instance.  In a future version, a new instance will always be created and returned.  Meanwhile, this warning can be suppressed, and the future behavior ensured, by passing a unique label to each axes instance.\n"
     ]
    },
    {
     "data": {
      "image/png": "[encoded data removed]",
      "text/plain": [
       "<Figure size 432x288 with 4 Axes>"
      ]
     },
     "metadata": {
      "needs_background": "light"
     },
     "output_type": "display_data"
    }
   ],
   "source": [
    "import numpy as np\n",
    "import matplotlib.pyplot as plt\n",
    "%matplotlib inline\n",
    "SUM_TERMS = 400\n",
    "# can consider making beta_s a global variable\n",
    "def R_pq(time, beta_s, gamma_s):\n",
    "    return 1/r_m(time, gamma_s) * tilde_G_1(time, beta_s) -2 * gamma_s/((r_m(time, gamma_s))**2) * G_2(time, beta_s) * tilde_F_1(time)\n",
    "\n",
    "def R_qq(time, beta_s, gamma_s):\n",
    "    return .5*gamma_s/(r_m(time,gamma_s)**2) * G_2(time, beta_s)\n",
    "def R_pp(time, beta_s, gamma_s):\n",
    "    return 1/gamma_s * G_0(time, beta_s) - 2 * gamma_t(time, gamma_s) * tilde_G_1(time, beta_s) +2 * gamma_s * gamma_t(time, gamma_s)**2 * G_2(time, beta_s)\n",
    "def gamma_t(time, gamma_s):\n",
    "    return tilde_F_1(time)/r_m(time, gamma_s)\n",
    "def r_m(time, gamma_s):\n",
    "    return (1 - 2*gamma_s*F_2(time))\n",
    "\n",
    "def F_2(time):\n",
    "    return (1 - (1 + time + (time**2)/2)* np.exp(-time))\n",
    "\n",
    "# may improve these calculations by saving some temporary results\n",
    "def tilde_G_1 (time, beta_s):\n",
    "    sum = 1/np.tan(beta_s/2) *tilde_F_1(time)\n",
    "    for n in range (1, SUM_TERMS):\n",
    "        sum += (4/beta_s)*tilde_F_1(2 * np.pi * n * time/beta_s)/((2*np.pi*n/beta_s)*((2*np.pi*n/beta_s)**2-1))\n",
    "    return sum\n",
    "def tilde_F_1(time):\n",
    "     return (1 - (1 + time - (time**2)/2)* np.exp(-time))\n",
    "\n",
    "def G_2(time, beta_s):\n",
    "    sum = 1/np.tan(beta_s/2) *F_2(time)\n",
    "    for n in range (1, SUM_TERMS):\n",
    "        sum += ((4/beta_s)*F_2(2 * np.pi * n * time/beta_s))/(((2*np.pi*n/beta_s)**2)*((2*np.pi*n/beta_s)**2-1))\n",
    "    return sum\n",
    "\n",
    "def G_0(time, beta_s):\n",
    "    sum = 1/np.tan(beta_s/2)* F_0(time)\n",
    "    for n in range (1, SUM_TERMS):\n",
    "        sum += (4/beta_s)*F_0(2 * np.pi * n * time/beta_s)/(((2*np.pi*n/beta_s)**2-1))\n",
    "    return sum\n",
    "def F_0 (time):\n",
    "    return 1 - np.exp(-time)\n",
    "\n",
    "def plot_function(init_time, final_time, num_points, betas_s, gamma_s):\n",
    "    a = np.linspace(init_time,final_time,num_points)\n",
    "    b = np.zeros(a.size)\n",
    "    c = np.zeros(a.size)\n",
    "    d = np.zeros(a.size)\n",
    "    e = np.zeros(a.size)\n",
    "    graphs = [\"r-\",\"b-\",\"g-\"] #chosen to be 3 but should depend on how many beta_s in betas_s\n",
    "    plt.subplot(411)\n",
    "    plt.ylabel(\"R_pq\") #don't need these two in the loop\n",
    "    plt.xlabel(\"Time\")\n",
    "    plt.subplot(412)\n",
    "    plt.ylabel(\"R_qq\")\n",
    "    plt.xlabel(\"Time\")\n",
    "    plt.subplot(413)\n",
    "    plt.ylabel(\"R_pp\")\n",
    "    plt.xlabel(\"Time\")\n",
    "    plt.subplot(414)\n",
    "    plt.ylabel(\"D(t)\")\n",
    "    plt.xlabel(\"Time\")\n",
    "    for index, beta_s in enumerate(betas_s):\n",
    "        for i in range(a.size):\n",
    "            b[i] = R_pq(a[i], beta_s, gamma_s)\n",
    "            c[i] = R_qq(a[i], beta_s, gamma_s)\n",
    "            d[i] = R_pp(a[i], beta_s, gamma_s)\n",
    "            e[i] = 4*d[i]*c[i] - b[i]**2 -  gamma_t(a[i],gamma_s)**2\n",
    "        plt.subplot(411)\n",
    "        plt.plot( a,  b, graphs[index])\n",
    "        plt.subplot(412)\n",
    "        plt.plot(a,c, graphs[index])\n",
    "        plt.subplot(413)\n",
    "        plt.plot(a,d, graphs[index])\n",
    "        plt.subplot(414)\n",
    "        plt.plot(a,e, graphs[index])\n",
    "       \n",
    "    plt.show()\n",
    "plot_function(0,10,500, np.array([0.5, 1.0, 5]), 0.1)\n",
    "plt.show()\n",
    "    \n",
    "    "
   ]
  },
  {
   "cell_type": "markdown",
   "metadata": {},
   "source": [
    " $t_s$ is the scaled time $ \\omega_ct$, and the required terms $G_0, \\tilde{G}_1, G_2, r_m(t),$ and $ \\tilde{F}_1$ are defined as follows:"
   ]
  },
  {
   "cell_type": "markdown",
   "metadata": {
    "jupyter": {
     "source_hidden": true
    }
   },
   "source": [
    "$$r_m(t) = 1 - 2\\gamma_sF_2(t_2)$$\n",
    "\n",
    "$$G_0(\\beta_s,t_s) = cot \\left(\\frac{\\beta_s}{2}\\right) F_0(t_s) +\\frac{4}{\\beta_s}\\sum_{n=1}^{\\infty}\\frac{F_0(2\\pi nt_s/\\beta_s)}{(2\\pi n/\\beta_s)^2-1}$$  \n",
    "\n",
    "$$\\tilde{G}_1(\\beta_s,t_s) = cot \\left(\\frac{\\beta_s}{2}\\right) \\tilde{F_1}(t_s) +\\frac{4}{\\beta_s}\\sum_{n=1}^{\\infty}\\frac{\\tilde{F}_1(2\\pi nt_s/\\beta_s)}{(2\\pi n/\\beta_s)((2\\pi n/\\beta_s)^2-1)}$$  \n",
    "\n",
    "$$G_2(\\beta_s,t_s) = cot \\left(\\frac{\\beta_s}{2}\\right) F_2(t_s) +\\frac{4}{\\beta_s}\\sum_{n=1}^{\\infty}\\frac{F_2(2\\pi nt_s/\\beta_s)}{(2\\pi n/\\beta_s)^2((2\\pi n/\\beta_s)^2-1)}$$\n",
    "\n",
    "\n",
    "\n",
    "\n",
    "where $\\beta_s $ is $\\beta\\hbar\\omega_c $ , and the relevant $F_n$'s are defined as follows:"
   ]
  },
  {
   "cell_type": "markdown",
   "metadata": {
    "jupyter": {
     "source_hidden": true
    }
   },
   "source": [
    "$$F_0(t_s) = 1 - e^{-t_s}$$\n",
    "$$\\tilde{F}_1(t_s) = 1 - \\left(1 + t_s - \\frac{t_s^2}{2}\\right) e^{-t_s} $$\n",
    "$$F_2(t_s) = 1 - \\left(1 + t_s + \\frac{t_s^2}{2}\\right) e^{-t_s} $$"
   ]
  },
  {
   "cell_type": "code",
   "execution_count": null,
   "metadata": {},
   "outputs": [],
   "source": []
  },
  {
   "cell_type": "code",
   "execution_count": null,
   "metadata": {},
   "outputs": [],
   "source": []
  }
 ],
 "metadata": {
  "kernelspec": {
   "display_name": "Python 3",
   "language": "python",
   "name": "python3"
  },
  "language_info": {
   "codemirror_mode": {
    "name": "ipython",
    "version": 3
   },
   "file_extension": ".py",
   "mimetype": "text/x-python",
   "name": "python",
   "nbconvert_exporter": "python",
   "pygments_lexer": "ipython3",
   "version": "3.7.10"
  }
 },
 "nbformat": 4,
 "nbformat_minor": 4
}
